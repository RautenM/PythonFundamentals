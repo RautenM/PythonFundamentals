{
  "nbformat": 4,
  "nbformat_minor": 0,
  "metadata": {
    "colab": {
      "name": "Copy of PythonExercise1.ipynb",
      "provenance": [],
      "include_colab_link": true
    },
    "kernelspec": {
      "name": "python3",
      "display_name": "Python 3"
    },
    "language_info": {
      "name": "python"
    }
  },
  "cells": [
    {
      "cell_type": "markdown",
      "metadata": {
        "id": "view-in-github",
        "colab_type": "text"
      },
      "source": [
        "<a href=\"https://colab.research.google.com/github/RautenM/PythonFundamentals/blob/main/Copy_of_PythonExercise1.ipynb\" target=\"_parent\"><img src=\"https://colab.research.google.com/assets/colab-badge.svg\" alt=\"Open In Colab\"/></a>"
      ]
    },
    {
      "cell_type": "markdown",
      "source": [
        "1A. Write a program to add the two numbers 9 and 13."
      ],
      "metadata": {
        "id": "Y9kDXsgJh-Xk"
      }
    },
    {
      "cell_type": "code",
      "execution_count": 2,
      "metadata": {
        "id": "9YN0LOPvhNSI",
        "colab": {
          "base_uri": "https://localhost:8080/"
        },
        "outputId": "a953f571-7aeb-4cc8-fd58-e78b92e392b3"
      },
      "outputs": [
        {
          "output_type": "stream",
          "name": "stdout",
          "text": [
            "22\n"
          ]
        }
      ],
      "source": [
        "num1 = 9\n",
        "num2 = 13\n",
        "sum = num1 + num2\n",
        "print(sum)\n"
      ]
    },
    {
      "cell_type": "markdown",
      "source": [
        "1B. Write a python program to multiply the two numbers 4 and 5."
      ],
      "metadata": {
        "id": "7WS5GzyIiXO8"
      }
    },
    {
      "cell_type": "code",
      "source": [
        "num1 = 4\n",
        "num2 = 5\n",
        "sum = num1 * num2\n",
        "print(sum)"
      ],
      "metadata": {
        "id": "a4vrN63kich6",
        "colab": {
          "base_uri": "https://localhost:8080/"
        },
        "outputId": "eef07bcd-d0d7-472f-b319-122cf49a885b"
      },
      "execution_count": 3,
      "outputs": [
        {
          "output_type": "stream",
          "name": "stdout",
          "text": [
            "20\n"
          ]
        }
      ]
    },
    {
      "cell_type": "markdown",
      "source": [
        "1C. Write a program that calculates the annual salary of an employee after it increases by 10%. (Initial annual salary £42,000)"
      ],
      "metadata": {
        "id": "X61a4vTIi3oz"
      }
    },
    {
      "cell_type": "code",
      "source": [
        "expected_salary = 42000\n",
        "actual_salary = 42000 * 1.10\n",
        "print(actual_salary)\n"
      ],
      "metadata": {
        "id": "Ipi3jrRGi8Yj",
        "colab": {
          "base_uri": "https://localhost:8080/"
        },
        "outputId": "af3a58a4-157c-497d-e675-933fd0aa6776"
      },
      "execution_count": 9,
      "outputs": [
        {
          "output_type": "stream",
          "name": "stdout",
          "text": [
            "46200.00000000001\n"
          ]
        }
      ]
    },
    {
      "cell_type": "markdown",
      "source": [
        "2A. Write a python program that finds the volume of a cuboid with length 2m, width 3m and height 5m."
      ],
      "metadata": {
        "id": "E8ZB8jBSi8nb"
      }
    },
    {
      "cell_type": "code",
      "source": [
        "cuboid_volume = (2*3*5)\n",
        "print(cuboid_volume)"
      ],
      "metadata": {
        "id": "IZ5ro6s9jCx8",
        "colab": {
          "base_uri": "https://localhost:8080/"
        },
        "outputId": "105dcb6e-3aac-4d11-d0fe-bce65eeea864"
      },
      "execution_count": 15,
      "outputs": [
        {
          "output_type": "stream",
          "name": "stdout",
          "text": [
            "30\n"
          ]
        }
      ]
    },
    {
      "cell_type": "markdown",
      "source": [
        "2B. Write a program that finds the area of a circle that has a radius of 4m. (You can take pi as being 3.14)"
      ],
      "metadata": {
        "id": "mgfDFNxBjC78"
      }
    },
    {
      "cell_type": "code",
      "source": [
        "circle_area = (3.14*(4**2))\n",
        "print(circle_area)"
      ],
      "metadata": {
        "id": "YMRx47ktjDD7",
        "colab": {
          "base_uri": "https://localhost:8080/"
        },
        "outputId": "e02063f4-2ead-4d9a-c659-cdf0280ac21e"
      },
      "execution_count": 14,
      "outputs": [
        {
          "output_type": "stream",
          "name": "stdout",
          "text": [
            "50.24\n"
          ]
        }
      ]
    },
    {
      "cell_type": "markdown",
      "source": [
        "2C. Write a program that finds the volume of a cone of radius 2m and height 5m. (You can take pi as being 3.14)"
      ],
      "metadata": {
        "id": "6lMyZAmzjDLN"
      }
    },
    {
      "cell_type": "code",
      "source": [
        "pi=3.14\n",
        "radius=2\n",
        "height=5\n",
        "volume= (pi* (radius**2)*height)/3\n",
        "print(round(volume,2))"
      ],
      "metadata": {
        "id": "AX52qgBzjDTr",
        "colab": {
          "base_uri": "https://localhost:8080/"
        },
        "outputId": "83a8303d-566a-4bdd-a5be-c8be11a2bb40"
      },
      "execution_count": 16,
      "outputs": [
        {
          "output_type": "stream",
          "name": "stdout",
          "text": [
            "20.93\n"
          ]
        }
      ]
    },
    {
      "cell_type": "markdown",
      "source": [
        "2D. Write a python program that uses a loop to find the factorial of 5. "
      ],
      "metadata": {
        "id": "iSdhsrKLjMIb"
      }
    },
    {
      "cell_type": "code",
      "source": [
        "factorial=1\n",
        "for x in range(1,6):\n",
        "  factorial=factorial*x\n",
        "print(factorial)"
      ],
      "metadata": {
        "id": "AAD9R7cfjKb0",
        "colab": {
          "base_uri": "https://localhost:8080/"
        },
        "outputId": "8caf74db-a333-4643-9e45-1b3c7f766b0d"
      },
      "execution_count": 17,
      "outputs": [
        {
          "output_type": "stream",
          "name": "stdout",
          "text": [
            "120\n"
          ]
        }
      ]
    }
  ]
}