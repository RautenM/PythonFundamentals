{
  "nbformat": 4,
  "nbformat_minor": 0,
  "metadata": {
    "colab": {
      "name": "Copy of 11 Page Views Project.ipynb",
      "provenance": [],
      "collapsed_sections": [],
      "include_colab_link": true
    },
    "kernelspec": {
      "name": "python3",
      "display_name": "Python 3"
    },
    "language_info": {
      "name": "python"
    }
  },
  "cells": [
    {
      "cell_type": "markdown",
      "metadata": {
        "id": "view-in-github",
        "colab_type": "text"
      },
      "source": [
        "<a href=\"https://colab.research.google.com/github/RautenM/PythonFundamentals/blob/main/Copy_of_11_Page_Views_Project.ipynb\" target=\"_parent\"><img src=\"https://colab.research.google.com/assets/colab-badge.svg\" alt=\"Open In Colab\"/></a>"
      ]
    },
    {
      "cell_type": "markdown",
      "metadata": {
        "id": "PbPj7T6rpfIM"
      },
      "source": [
        "# Discovery project - page views\n",
        "\n",
        "### Adapted from freeCodeCamp [project](https://www.freecodecamp.org/learn/data-analysis-with-python/data-analysis-with-python-projects/page-view-time-series-visualizer)\n",
        "\n",
        "For this project you will visualise data that has values recorded against time.  You will use Pandas and Matplotlib to visualise the dataset which contains the number of page views each day on the freeCodeCamp.org forum between 2016-05-09 and 2019-12-03. You will create a line chart, a bar chart, and some box plots to create visualisations that will help you understand the patterns in visits to the forum and identify growth over various time ranges (yearly, monthly, etc).\n",
        "\n",
        "\n",
        "The dataset can be read from here: \"https://raw.githubusercontent.com/futureCodersSE/working-with-data/main/Data%20sets/page_views.csv\"\n",
        "\n",
        "Visualise and analyse the data in the following ways:\n",
        "\n"
      ]
    },
    {
      "cell_type": "code",
      "metadata": {
        "id": "9xYOGWDZpeKg"
      },
      "source": [
        ""
      ],
      "execution_count": null,
      "outputs": []
    },
    {
      "cell_type": "markdown",
      "source": [
        "### 1.  a line plot, similar to this \n",
        "---\n",
        "![example](https://drive.google.com/uc?id=1Cic5SybYEc86rqbwTCZzyEf4rzQNWJLP) (taken from the freeCodeCamp site) and with similar labelling.\n",
        "\n",
        "To prepare the data for the line plot you might do the following:  \n",
        "\n",
        "*  convert the `date` column to **datetime** type \n",
        "*  create 3 new columns for `year`, `month` and `day` (use `dt.year, dt.strftime to get the month name, dt.day`)\n",
        "*  set the index to the **date** column.\n",
        "*  clean the data by filtering out days when the page views were in the top 2.5% of the dataset or bottom 2.5% of the dataset.\n"
      ],
      "metadata": {
        "id": "VKeRaTH0leil"
      }
    },
    {
      "cell_type": "code",
      "metadata": {
        "id": "bwKeud7NrhVu",
        "colab": {
          "base_uri": "https://localhost:8080/",
          "height": 641
        },
        "outputId": "a53caab4-3a1a-4f6a-c32b-b2e25fb0a5d9"
      },
      "source": [
        "import pandas as pd\n",
        "\n",
        "url = 'https://raw.githubusercontent.com/futureCodersSE/working-with-data/main/Data%20sets/page_views.csv'\n",
        "df = pd.read_csv(url)\n",
        "df\n",
        "\n",
        " #dt.year\n",
        " #dt.strftime \n",
        " #dt.day\n"
      ],
      "execution_count": 52,
      "outputs": [
        {
          "output_type": "execute_result",
          "data": {
            "text/html": [
              "\n",
              "  <div id=\"df-48a66e80-3c46-468d-95ff-b482f3a72cdc\">\n",
              "    <div class=\"colab-df-container\">\n",
              "      <div>\n",
              "<style scoped>\n",
              "    .dataframe tbody tr th:only-of-type {\n",
              "        vertical-align: middle;\n",
              "    }\n",
              "\n",
              "    .dataframe tbody tr th {\n",
              "        vertical-align: top;\n",
              "    }\n",
              "\n",
              "    .dataframe thead th {\n",
              "        text-align: right;\n",
              "    }\n",
              "</style>\n",
              "<table border=\"1\" class=\"dataframe\">\n",
              "  <thead>\n",
              "    <tr style=\"text-align: right;\">\n",
              "      <th></th>\n",
              "      <th>date</th>\n",
              "      <th>value</th>\n",
              "    </tr>\n",
              "  </thead>\n",
              "  <tbody>\n",
              "    <tr>\n",
              "      <th>0</th>\n",
              "      <td>2016-05-09</td>\n",
              "      <td>1201</td>\n",
              "    </tr>\n",
              "    <tr>\n",
              "      <th>1</th>\n",
              "      <td>2016-05-10</td>\n",
              "      <td>2329</td>\n",
              "    </tr>\n",
              "    <tr>\n",
              "      <th>2</th>\n",
              "      <td>2016-05-11</td>\n",
              "      <td>1716</td>\n",
              "    </tr>\n",
              "    <tr>\n",
              "      <th>3</th>\n",
              "      <td>2016-05-12</td>\n",
              "      <td>10539</td>\n",
              "    </tr>\n",
              "    <tr>\n",
              "      <th>4</th>\n",
              "      <td>2016-05-13</td>\n",
              "      <td>6933</td>\n",
              "    </tr>\n",
              "    <tr>\n",
              "      <th>...</th>\n",
              "      <td>...</td>\n",
              "      <td>...</td>\n",
              "    </tr>\n",
              "    <tr>\n",
              "      <th>1299</th>\n",
              "      <td>2019-11-29</td>\n",
              "      <td>171584</td>\n",
              "    </tr>\n",
              "    <tr>\n",
              "      <th>1300</th>\n",
              "      <td>2019-11-30</td>\n",
              "      <td>141161</td>\n",
              "    </tr>\n",
              "    <tr>\n",
              "      <th>1301</th>\n",
              "      <td>2019-12-01</td>\n",
              "      <td>142918</td>\n",
              "    </tr>\n",
              "    <tr>\n",
              "      <th>1302</th>\n",
              "      <td>2019-12-02</td>\n",
              "      <td>220144</td>\n",
              "    </tr>\n",
              "    <tr>\n",
              "      <th>1303</th>\n",
              "      <td>2019-12-03</td>\n",
              "      <td>158549</td>\n",
              "    </tr>\n",
              "  </tbody>\n",
              "</table>\n",
              "<p>1304 rows × 2 columns</p>\n",
              "</div>\n",
              "      <button class=\"colab-df-convert\" onclick=\"convertToInteractive('df-48a66e80-3c46-468d-95ff-b482f3a72cdc')\"\n",
              "              title=\"Convert this dataframe to an interactive table.\"\n",
              "              style=\"display:none;\">\n",
              "        \n",
              "  <svg xmlns=\"http://www.w3.org/2000/svg\" height=\"24px\"viewBox=\"0 0 24 24\"\n",
              "       width=\"24px\">\n",
              "    <path d=\"M0 0h24v24H0V0z\" fill=\"none\"/>\n",
              "    <path d=\"M18.56 5.44l.94 2.06.94-2.06 2.06-.94-2.06-.94-.94-2.06-.94 2.06-2.06.94zm-11 1L8.5 8.5l.94-2.06 2.06-.94-2.06-.94L8.5 2.5l-.94 2.06-2.06.94zm10 10l.94 2.06.94-2.06 2.06-.94-2.06-.94-.94-2.06-.94 2.06-2.06.94z\"/><path d=\"M17.41 7.96l-1.37-1.37c-.4-.4-.92-.59-1.43-.59-.52 0-1.04.2-1.43.59L10.3 9.45l-7.72 7.72c-.78.78-.78 2.05 0 2.83L4 21.41c.39.39.9.59 1.41.59.51 0 1.02-.2 1.41-.59l7.78-7.78 2.81-2.81c.8-.78.8-2.07 0-2.86zM5.41 20L4 18.59l7.72-7.72 1.47 1.35L5.41 20z\"/>\n",
              "  </svg>\n",
              "      </button>\n",
              "      \n",
              "  <style>\n",
              "    .colab-df-container {\n",
              "      display:flex;\n",
              "      flex-wrap:wrap;\n",
              "      gap: 12px;\n",
              "    }\n",
              "\n",
              "    .colab-df-convert {\n",
              "      background-color: #E8F0FE;\n",
              "      border: none;\n",
              "      border-radius: 50%;\n",
              "      cursor: pointer;\n",
              "      display: none;\n",
              "      fill: #1967D2;\n",
              "      height: 32px;\n",
              "      padding: 0 0 0 0;\n",
              "      width: 32px;\n",
              "    }\n",
              "\n",
              "    .colab-df-convert:hover {\n",
              "      background-color: #E2EBFA;\n",
              "      box-shadow: 0px 1px 2px rgba(60, 64, 67, 0.3), 0px 1px 3px 1px rgba(60, 64, 67, 0.15);\n",
              "      fill: #174EA6;\n",
              "    }\n",
              "\n",
              "    [theme=dark] .colab-df-convert {\n",
              "      background-color: #3B4455;\n",
              "      fill: #D2E3FC;\n",
              "    }\n",
              "\n",
              "    [theme=dark] .colab-df-convert:hover {\n",
              "      background-color: #434B5C;\n",
              "      box-shadow: 0px 1px 3px 1px rgba(0, 0, 0, 0.15);\n",
              "      filter: drop-shadow(0px 1px 2px rgba(0, 0, 0, 0.3));\n",
              "      fill: #FFFFFF;\n",
              "    }\n",
              "  </style>\n",
              "\n",
              "      <script>\n",
              "        const buttonEl =\n",
              "          document.querySelector('#df-48a66e80-3c46-468d-95ff-b482f3a72cdc button.colab-df-convert');\n",
              "        buttonEl.style.display =\n",
              "          google.colab.kernel.accessAllowed ? 'block' : 'none';\n",
              "\n",
              "        async function convertToInteractive(key) {\n",
              "          const element = document.querySelector('#df-48a66e80-3c46-468d-95ff-b482f3a72cdc');\n",
              "          const dataTable =\n",
              "            await google.colab.kernel.invokeFunction('convertToInteractive',\n",
              "                                                     [key], {});\n",
              "          if (!dataTable) return;\n",
              "\n",
              "          const docLinkHtml = 'Like what you see? Visit the ' +\n",
              "            '<a target=\"_blank\" href=https://colab.research.google.com/notebooks/data_table.ipynb>data table notebook</a>'\n",
              "            + ' to learn more about interactive tables.';\n",
              "          element.innerHTML = '';\n",
              "          dataTable['output_type'] = 'display_data';\n",
              "          await google.colab.output.renderOutput(dataTable, element);\n",
              "          const docLink = document.createElement('div');\n",
              "          docLink.innerHTML = docLinkHtml;\n",
              "          element.appendChild(docLink);\n",
              "        }\n",
              "      </script>\n",
              "    </div>\n",
              "  </div>\n",
              "  "
            ],
            "text/plain": [
              "            date   value\n",
              "0     2016-05-09    1201\n",
              "1     2016-05-10    2329\n",
              "2     2016-05-11    1716\n",
              "3     2016-05-12   10539\n",
              "4     2016-05-13    6933\n",
              "...          ...     ...\n",
              "1299  2019-11-29  171584\n",
              "1300  2019-11-30  141161\n",
              "1301  2019-12-01  142918\n",
              "1302  2019-12-02  220144\n",
              "1303  2019-12-03  158549\n",
              "\n",
              "[1304 rows x 2 columns]"
            ]
          },
          "metadata": {},
          "execution_count": 52
        }
      ]
    },
    {
      "cell_type": "markdown",
      "source": [
        "###2. a bar chart similar to this \n",
        "---\n",
        "\n",
        "![example](https://drive.google.com/uc?id=15-tIwheaCIcUsx6jfg5DBAWFVGE4bHzK) (taken from the freeCodeCamp site) and with similar labelling.  It should show average daily page views for each month grouped by year. \n",
        "\n",
        "To prepare the data for the bar chart you should create a pivot table and can use pivot_table_name.plot(kind='bar')\n"
      ],
      "metadata": {
        "id": "t0C_CKXhlh1Z"
      }
    },
    {
      "cell_type": "code",
      "source": [
        "import pandas as pd\n",
        "import matplotlib.pyplot as plt\n",
        "\n",
        "\n",
        "url = 'https://raw.githubusercontent.com/futureCodersSE/working-with-data/main/Data%20sets/page_views.csv'\n",
        "df = pd.read_csv(url)\n",
        "df\n",
        "\n",
        "years = df.groupby(['date']).mean()\n",
        "years.head()\n",
        "\n",
        "data = years['value']\n",
        "data\n",
        "\n",
        "labels = data.keys()\n",
        "labels\n",
        "\n",
        "plt.bar(labels, data)\n",
        "plt.show()\n",
        "\n",
        "\n",
        "data.plot(kind='bar')\n"
      ],
      "metadata": {
        "id": "K48C8gw1llFV",
        "colab": {
          "base_uri": "https://localhost:8080/",
          "height": 614
        },
        "outputId": "55034184-2cb2-460f-9101-4130378aacb4"
      },
      "execution_count": 44,
      "outputs": [
        {
          "output_type": "display_data",
          "data": {
            "image/png": "[encoded data removed]",
            "text/plain": [
              "<Figure size 432x288 with 1 Axes>"
            ]
          },
          "metadata": {
            "needs_background": "light"
          }
        },
        {
          "output_type": "execute_result",
          "data": {
            "text/plain": [
              "<matplotlib.axes._subplots.AxesSubplot at 0x7fe785ad5a90>"
            ]
          },
          "metadata": {},
          "execution_count": 44
        },
        {
          "output_type": "display_data",
          "data": {
            "image/png": "[encoded data removed]",
            "text/plain": [
              "<Figure size 432x288 with 1 Axes>"
            ]
          },
          "metadata": {
            "needs_background": "light"
          }
        }
      ]
    },
    {
      "cell_type": "markdown",
      "source": [
        "###3.  a set of box plots similar to this\n",
        "---\n",
        " ![example](https://drive.google.com/uc?id=1kqhGKnA0Ybtyw2cew67u3_ogMS9Fb1hM)\n",
        "\n",
        "These box plots should show how the values are distributed within a given year or month and how it compares over time. \n"
      ],
      "metadata": {
        "id": "GentBB6gllVh"
      }
    },
    {
      "cell_type": "code",
      "source": [
        "#import pandas as pd\n",
        "#import matplotlib.pyplot as plt\n",
        "\n",
        "#url = 'https://raw.githubusercontent.com/futureCodersSE/working-with-data/main/Data%20sets/page_views.csv'\n",
        "#df = pd.read_csv(url)\n",
        "#df\n",
        "\n",
        "#data\n",
        "\n",
        "#labels = data.keys()\n",
        "#labels\n",
        "#plt.plot(labels,data)\n",
        "#plt.xticks(rotation=45)\n",
        "#plt.grid()\n",
        "#plt.show()\n",
        "\n",
        "\n",
        "\n",
        "import pandas as pd\n",
        "import matplotlib.pyplot as plt\n",
        "\n",
        "\n",
        "url = 'https://raw.githubusercontent.com/futureCodersSE/working-with-data/main/Data%20sets/page_views.csv'\n",
        "df = pd.read_csv(url)\n",
        "df.head()\n",
        "\n",
        "\n",
        "data\n",
        "labels = data.keys()\n",
        "labels\n",
        "\n",
        "plt.bar(labels, data)\n",
        "plt.xlabel('date')\n",
        "plt.ylabel('value')\n",
        "plt.show"
      ],
      "metadata": {
        "id": "6v7ReU6Jlnb5",
        "colab": {
          "base_uri": "https://localhost:8080/",
          "height": 307
        },
        "outputId": "ba72a13e-d410-41ef-fa9d-b498231edb54"
      },
      "execution_count": 53,
      "outputs": [
        {
          "output_type": "execute_result",
          "data": {
            "text/plain": [
              "<function matplotlib.pyplot.show>"
            ]
          },
          "metadata": {},
          "execution_count": 53
        },
        {
          "output_type": "display_data",
          "data": {
            "image/png": "[encoded data removed]",
            "text/plain": [
              "<Figure size 432x288 with 1 Axes>"
            ]
          },
          "metadata": {
            "needs_background": "light"
          }
        }
      ]
    },
    {
      "cell_type": "markdown",
      "source": [
        "###4.  predict the number of page views in the year 2020 based on the data up to 2019\n",
        "---\n",
        "\n",
        "*  perform a linear regression and create a line of best fit \n",
        "*  predict the page views in the year 2020, 2025 and 2030 if identified trends persist. \n"
      ],
      "metadata": {
        "id": "VRT2P1DAlnmy"
      }
    },
    {
      "cell_type": "code",
      "source": [
        ""
      ],
      "metadata": {
        "id": "mU3-V66DloZJ"
      },
      "execution_count": null,
      "outputs": []
    },
    {
      "cell_type": "markdown",
      "source": [
        "# Reflect\n",
        "\n",
        "What caused the biggest problems?\n",
        "How did you solve these problems?"
      ],
      "metadata": {
        "id": "NkL5dw6ulp6K"
      }
    }
  ]
}