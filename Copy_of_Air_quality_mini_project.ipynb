{
  "nbformat": 4,
  "nbformat_minor": 0,
  "metadata": {
    "colab": {
      "name": "Copy of Air quality mini-project.ipynb",
      "provenance": [],
      "collapsed_sections": [],
      "include_colab_link": true
    },
    "kernelspec": {
      "name": "python3",
      "display_name": "Python 3"
    },
    "language_info": {
      "name": "python"
    }
  },
  "cells": [
    {
      "cell_type": "markdown",
      "metadata": {
        "id": "view-in-github",
        "colab_type": "text"
      },
      "source": [
        "<a href=\"https://colab.research.google.com/github/RautenM/PythonFundamentals/blob/main/Copy_of_Air_quality_mini_project.ipynb\" target=\"_parent\"><img src=\"https://colab.research.google.com/assets/colab-badge.svg\" alt=\"Open In Colab\"/></a>"
      ]
    },
    {
      "cell_type": "markdown",
      "source": [
        "![images-4.jpeg](data:image/jpeg;base64,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)\n",
        "\n",
        "\n",
        "\n",
        "# Air quality \n",
        "\n",
        "The following data file contains data collected at a roadside monitoring station.  You can see the data in a spreadsheet here: https://docs.google.com/spreadsheets/d/1XpAvrpuyMsKDO76EZ3kxuddBOu7cZX1Od4uEts14zco/edit?usp=sharing\n",
        "\n",
        "To create this project I nedded skipp a heading line, times which was not in the same format and Nitrogen Dioxide levels which are, again, text and contain nodata\n",
        "\n",
        "\n"
      ],
      "metadata": {
        "id": "8qnlsapq24Df"
      }
    },
    {
      "cell_type": "markdown",
      "source": [
        "### Project \n",
        "\n",
        "The dataset can be viewed here:  https://drive.google.com/file/d/1aYmBf9il2dWA-EROvbYRCZ1rU2t7JwvJ/view?usp=sharing  and the data accessed here: https://drive.google.com/uc?id=1QSNJ3B1ku8kjXsA_tCBh4fbpDK7wVLAA This is a .csv file  \n"
      ],
      "metadata": {
        "id": "SSvLiFnp4LjG"
      }
    },
    {
      "cell_type": "markdown",
      "source": [
        "First I have skipped first row, then convert data to date format removed rows with no data  in the Nitrogen dioxide column"
      ],
      "metadata": {
        "id": "WZoFVgGoeNB3"
      }
    },
    {
      "cell_type": "code",
      "source": [
        "import pandas as pd\n",
        "\n",
        "df = pd.read_csv(\"https://drive.google.com/uc?id=1QSNJ3B1ku8kjXsA_tCBh4fbpDK7wVLAA\",skiprows = 1)\n",
        "df.info()\n",
        "df.head()"
      ],
      "metadata": {
        "colab": {
          "base_uri": "https://localhost:8080/",
          "height": 391
        },
        "id": "xEuR0jIAYReE",
        "outputId": "76550fc7-9743-4ddc-c000-fcb192597bb2"
      },
      "execution_count": 35,
      "outputs": [
        {
          "output_type": "stream",
          "name": "stdout",
          "text": [
            "<class 'pandas.core.frame.DataFrame'>\n",
            "RangeIndex: 8784 entries, 0 to 8783\n",
            "Data columns (total 4 columns):\n",
            " #   Column            Non-Null Count  Dtype \n",
            "---  ------            --------------  ----- \n",
            " 0   Date              8784 non-null   object\n",
            " 1   Time              8784 non-null   object\n",
            " 2   Nitrogen dioxide  8784 non-null   object\n",
            " 3   Status            8784 non-null   object\n",
            "dtypes: object(4)\n",
            "memory usage: 274.6+ KB\n"
          ]
        },
        {
          "output_type": "execute_result",
          "data": {
            "text/plain": [
              "         Date  Time Nitrogen dioxide   Status\n",
              "0  01/01/2020  1:00         35.65193  V µg/m³\n",
              "1  01/01/2020  2:00         37.99122  V µg/m³\n",
              "2  01/01/2020  3:00         35.70462  V µg/m³\n",
              "3  01/01/2020  4:00          36.5796  V µg/m³\n",
              "4  01/01/2020  5:00          32.9441  V µg/m³"
            ],
            "text/html": [
              "\n",
              "  <div id=\"df-44e02eba-348f-4646-9753-250c426ad9b7\">\n",
              "    <div class=\"colab-df-container\">\n",
              "      <div>\n",
              "<style scoped>\n",
              "    .dataframe tbody tr th:only-of-type {\n",
              "        vertical-align: middle;\n",
              "    }\n",
              "\n",
              "    .dataframe tbody tr th {\n",
              "        vertical-align: top;\n",
              "    }\n",
              "\n",
              "    .dataframe thead th {\n",
              "        text-align: right;\n",
              "    }\n",
              "</style>\n",
              "<table border=\"1\" class=\"dataframe\">\n",
              "  <thead>\n",
              "    <tr style=\"text-align: right;\">\n",
              "      <th></th>\n",
              "      <th>Date</th>\n",
              "      <th>Time</th>\n",
              "      <th>Nitrogen dioxide</th>\n",
              "      <th>Status</th>\n",
              "    </tr>\n",
              "  </thead>\n",
              "  <tbody>\n",
              "    <tr>\n",
              "      <th>0</th>\n",
              "      <td>01/01/2020</td>\n",
              "      <td>1:00</td>\n",
              "      <td>35.65193</td>\n",
              "      <td>V µg/m³</td>\n",
              "    </tr>\n",
              "    <tr>\n",
              "      <th>1</th>\n",
              "      <td>01/01/2020</td>\n",
              "      <td>2:00</td>\n",
              "      <td>37.99122</td>\n",
              "      <td>V µg/m³</td>\n",
              "    </tr>\n",
              "    <tr>\n",
              "      <th>2</th>\n",
              "      <td>01/01/2020</td>\n",
              "      <td>3:00</td>\n",
              "      <td>35.70462</td>\n",
              "      <td>V µg/m³</td>\n",
              "    </tr>\n",
              "    <tr>\n",
              "      <th>3</th>\n",
              "      <td>01/01/2020</td>\n",
              "      <td>4:00</td>\n",
              "      <td>36.5796</td>\n",
              "      <td>V µg/m³</td>\n",
              "    </tr>\n",
              "    <tr>\n",
              "      <th>4</th>\n",
              "      <td>01/01/2020</td>\n",
              "      <td>5:00</td>\n",
              "      <td>32.9441</td>\n",
              "      <td>V µg/m³</td>\n",
              "    </tr>\n",
              "  </tbody>\n",
              "</table>\n",
              "</div>\n",
              "      <button class=\"colab-df-convert\" onclick=\"convertToInteractive('df-44e02eba-348f-4646-9753-250c426ad9b7')\"\n",
              "              title=\"Convert this dataframe to an interactive table.\"\n",
              "              style=\"display:none;\">\n",
              "        \n",
              "  <svg xmlns=\"http://www.w3.org/2000/svg\" height=\"24px\"viewBox=\"0 0 24 24\"\n",
              "       width=\"24px\">\n",
              "    <path d=\"M0 0h24v24H0V0z\" fill=\"none\"/>\n",
              "    <path d=\"M18.56 5.44l.94 2.06.94-2.06 2.06-.94-2.06-.94-.94-2.06-.94 2.06-2.06.94zm-11 1L8.5 8.5l.94-2.06 2.06-.94-2.06-.94L8.5 2.5l-.94 2.06-2.06.94zm10 10l.94 2.06.94-2.06 2.06-.94-2.06-.94-.94-2.06-.94 2.06-2.06.94z\"/><path d=\"M17.41 7.96l-1.37-1.37c-.4-.4-.92-.59-1.43-.59-.52 0-1.04.2-1.43.59L10.3 9.45l-7.72 7.72c-.78.78-.78 2.05 0 2.83L4 21.41c.39.39.9.59 1.41.59.51 0 1.02-.2 1.41-.59l7.78-7.78 2.81-2.81c.8-.78.8-2.07 0-2.86zM5.41 20L4 18.59l7.72-7.72 1.47 1.35L5.41 20z\"/>\n",
              "  </svg>\n",
              "      </button>\n",
              "      \n",
              "  <style>\n",
              "    .colab-df-container {\n",
              "      display:flex;\n",
              "      flex-wrap:wrap;\n",
              "      gap: 12px;\n",
              "    }\n",
              "\n",
              "    .colab-df-convert {\n",
              "      background-color: #E8F0FE;\n",
              "      border: none;\n",
              "      border-radius: 50%;\n",
              "      cursor: pointer;\n",
              "      display: none;\n",
              "      fill: #1967D2;\n",
              "      height: 32px;\n",
              "      padding: 0 0 0 0;\n",
              "      width: 32px;\n",
              "    }\n",
              "\n",
              "    .colab-df-convert:hover {\n",
              "      background-color: #E2EBFA;\n",
              "      box-shadow: 0px 1px 2px rgba(60, 64, 67, 0.3), 0px 1px 3px 1px rgba(60, 64, 67, 0.15);\n",
              "      fill: #174EA6;\n",
              "    }\n",
              "\n",
              "    [theme=dark] .colab-df-convert {\n",
              "      background-color: #3B4455;\n",
              "      fill: #D2E3FC;\n",
              "    }\n",
              "\n",
              "    [theme=dark] .colab-df-convert:hover {\n",
              "      background-color: #434B5C;\n",
              "      box-shadow: 0px 1px 3px 1px rgba(0, 0, 0, 0.15);\n",
              "      filter: drop-shadow(0px 1px 2px rgba(0, 0, 0, 0.3));\n",
              "      fill: #FFFFFF;\n",
              "    }\n",
              "  </style>\n",
              "\n",
              "      <script>\n",
              "        const buttonEl =\n",
              "          document.querySelector('#df-44e02eba-348f-4646-9753-250c426ad9b7 button.colab-df-convert');\n",
              "        buttonEl.style.display =\n",
              "          google.colab.kernel.accessAllowed ? 'block' : 'none';\n",
              "\n",
              "        async function convertToInteractive(key) {\n",
              "          const element = document.querySelector('#df-44e02eba-348f-4646-9753-250c426ad9b7');\n",
              "          const dataTable =\n",
              "            await google.colab.kernel.invokeFunction('convertToInteractive',\n",
              "                                                     [key], {});\n",
              "          if (!dataTable) return;\n",
              "\n",
              "          const docLinkHtml = 'Like what you see? Visit the ' +\n",
              "            '<a target=\"_blank\" href=https://colab.research.google.com/notebooks/data_table.ipynb>data table notebook</a>'\n",
              "            + ' to learn more about interactive tables.';\n",
              "          element.innerHTML = '';\n",
              "          dataTable['output_type'] = 'display_data';\n",
              "          await google.colab.output.renderOutput(dataTable, element);\n",
              "          const docLink = document.createElement('div');\n",
              "          docLink.innerHTML = docLinkHtml;\n",
              "          element.appendChild(docLink);\n",
              "        }\n",
              "      </script>\n",
              "    </div>\n",
              "  </div>\n",
              "  "
            ]
          },
          "metadata": {},
          "execution_count": 35
        }
      ]
    },
    {
      "cell_type": "code",
      "source": [
        "\n",
        "df.dropna()\n",
        "df['Date']= pd.to_datetime(df['Date'])\n",
        "df\n",
        "\n",
        "df = pd.read_csv(\"https://drive.google.com/uc?id=1QSNJ3B1ku8kjXsA_tCBh4fbpDK7wVLAA\",days=['Date'])\n",
        "df['Date']= pd.to_datetime(df['Date'])\n",
        "\n",
        "week_df = df.groupby(df['Date'].dt.weekday_name).mean()\n",
        "print(week_df)\n",
        "\n"
      ],
      "metadata": {
        "id": "txM4TIRUHhsJ",
        "colab": {
          "base_uri": "https://localhost:8080/",
          "height": 351
        },
        "outputId": "4bc55776-6704-4da4-c126-3df067083281"
      },
      "execution_count": 33,
      "outputs": [
        {
          "output_type": "error",
          "ename": "TypeError",
          "evalue": "ignored",
          "traceback": [
            "\u001b[0;31m---------------------------------------------------------------------------\u001b[0m",
            "\u001b[0;31mTypeError\u001b[0m                                 Traceback (most recent call last)",
            "\u001b[0;32m<ipython-input-33-a552aa78a06f>\u001b[0m in \u001b[0;36m<module>\u001b[0;34m()\u001b[0m\n\u001b[1;32m      4\u001b[0m \u001b[0mdf\u001b[0m\u001b[0;34m\u001b[0m\u001b[0;34m\u001b[0m\u001b[0m\n\u001b[1;32m      5\u001b[0m \u001b[0;34m\u001b[0m\u001b[0m\n\u001b[0;32m----> 6\u001b[0;31m \u001b[0mdf\u001b[0m \u001b[0;34m=\u001b[0m \u001b[0mpd\u001b[0m\u001b[0;34m.\u001b[0m\u001b[0mread_csv\u001b[0m\u001b[0;34m(\u001b[0m\u001b[0;34m\"https://drive.google.com/uc?id=1QSNJ3B1ku8kjXsA_tCBh4fbpDK7wVLAA\"\u001b[0m\u001b[0;34m,\u001b[0m\u001b[0mdays\u001b[0m\u001b[0;34m=\u001b[0m\u001b[0;34m[\u001b[0m\u001b[0;34m'Date'\u001b[0m\u001b[0;34m]\u001b[0m\u001b[0;34m)\u001b[0m\u001b[0;34m\u001b[0m\u001b[0;34m\u001b[0m\u001b[0m\n\u001b[0m\u001b[1;32m      7\u001b[0m \u001b[0mdf\u001b[0m\u001b[0;34m[\u001b[0m\u001b[0;34m'Date'\u001b[0m\u001b[0;34m]\u001b[0m\u001b[0;34m=\u001b[0m \u001b[0mpd\u001b[0m\u001b[0;34m.\u001b[0m\u001b[0mto_datetime\u001b[0m\u001b[0;34m(\u001b[0m\u001b[0mdf\u001b[0m\u001b[0;34m[\u001b[0m\u001b[0;34m'Date'\u001b[0m\u001b[0;34m]\u001b[0m\u001b[0;34m)\u001b[0m\u001b[0;34m\u001b[0m\u001b[0;34m\u001b[0m\u001b[0m\n\u001b[1;32m      8\u001b[0m \u001b[0mweek_df\u001b[0m \u001b[0;34m=\u001b[0m \u001b[0mdf\u001b[0m\u001b[0;34m.\u001b[0m\u001b[0mgroupby\u001b[0m\u001b[0;34m(\u001b[0m\u001b[0mdf\u001b[0m\u001b[0;34m[\u001b[0m\u001b[0;34m'Date'\u001b[0m\u001b[0;34m]\u001b[0m\u001b[0;34m.\u001b[0m\u001b[0mdt\u001b[0m\u001b[0;34m.\u001b[0m\u001b[0mweekday_name\u001b[0m\u001b[0;34m)\u001b[0m\u001b[0;34m.\u001b[0m\u001b[0mmean\u001b[0m\u001b[0;34m(\u001b[0m\u001b[0;34m)\u001b[0m\u001b[0;34m\u001b[0m\u001b[0;34m\u001b[0m\u001b[0m\n",
            "\u001b[0;32m/usr/local/lib/python3.7/dist-packages/pandas/util/_decorators.py\u001b[0m in \u001b[0;36mwrapper\u001b[0;34m(*args, **kwargs)\u001b[0m\n\u001b[1;32m    309\u001b[0m                     \u001b[0mstacklevel\u001b[0m\u001b[0;34m=\u001b[0m\u001b[0mstacklevel\u001b[0m\u001b[0;34m,\u001b[0m\u001b[0;34m\u001b[0m\u001b[0;34m\u001b[0m\u001b[0m\n\u001b[1;32m    310\u001b[0m                 )\n\u001b[0;32m--> 311\u001b[0;31m             \u001b[0;32mreturn\u001b[0m \u001b[0mfunc\u001b[0m\u001b[0;34m(\u001b[0m\u001b[0;34m*\u001b[0m\u001b[0margs\u001b[0m\u001b[0;34m,\u001b[0m \u001b[0;34m**\u001b[0m\u001b[0mkwargs\u001b[0m\u001b[0;34m)\u001b[0m\u001b[0;34m\u001b[0m\u001b[0;34m\u001b[0m\u001b[0m\n\u001b[0m\u001b[1;32m    312\u001b[0m \u001b[0;34m\u001b[0m\u001b[0m\n\u001b[1;32m    313\u001b[0m         \u001b[0;32mreturn\u001b[0m \u001b[0mwrapper\u001b[0m\u001b[0;34m\u001b[0m\u001b[0;34m\u001b[0m\u001b[0m\n",
            "\u001b[0;31mTypeError\u001b[0m: read_csv() got an unexpected keyword argument 'days'"
          ]
        }
      ]
    },
    {
      "cell_type": "markdown",
      "source": [
        "### Expand the dataset and show summary statistics for larger dataset\n",
        "---\n",
        "\n",
        "There is a second data set here covering the year 2021:  https://drive.google.com/uc?id=1aYmBf9il2dWA-EROvbYRCZ1rU2t7JwvJ  \n",
        "\n",
        "Concatenate the two datasets to expand it to 2020 and 2021.  \n",
        "\n",
        "Before you can concatenate the datasets you will need to clean and wrangle the second dataset in the same way as the first.  Use the code cell below.  Give the second dataset a different name. \n",
        "\n",
        "After the datasets have been concatenated, group the data by Weekdays and show summary statistics by day of the week."
      ],
      "metadata": {
        "id": "jnzAnbsmHk4B"
      }
    },
    {
      "cell_type": "code",
      "source": [
        "import pandas as pd\n",
        "\n",
        "df = pd.read_csv(\"https://drive.google.com/uc?id=1QSNJ3B1ku8kjXsA_tCBh4fbpDK7wVLAA\",skiprows = 1)\n",
        "\n",
        "\n",
        "\n",
        "\n",
        "\n",
        "df['Date']= pd.to_datetime(df['Date'])\n",
        "\n",
        "week_df = df.groupby(df[\"Date\"].dt.weekday).mean()\n",
        "print(week_df)\n",
        "weekday_name= ['Monday','Tuesday','Wednesday','Thursday','Friday','Saturday','Sunday']\n",
        "week_df = df.groupby(df['Date'].dt.weekday_name).mean().reindex(days)\n",
        "print(week_df)\n",
        "\n",
        "\n",
        "#week_days = df.groupby(df[\"Date\"].dt.weekday_name)\n",
        "#print(week_days)\n"
      ],
      "metadata": {
        "colab": {
          "base_uri": "https://localhost:8080/",
          "height": 439
        },
        "id": "mp7H7yNZZSOm",
        "outputId": "2fee737e-e364-4f4d-8002-f8982fa0255b"
      },
      "execution_count": 37,
      "outputs": [
        {
          "output_type": "stream",
          "name": "stdout",
          "text": [
            "                    Date\n",
            "Date                    \n",
            "0    2020-07-02 12:00:00\n",
            "1    2020-07-03 12:00:00\n",
            "2    2020-07-01 00:00:00\n",
            "3    2020-07-02 00:00:00\n",
            "4    2020-06-29 12:00:00\n",
            "5    2020-06-30 12:00:00\n",
            "6    2020-07-01 12:00:00\n"
          ]
        },
        {
          "output_type": "stream",
          "name": "stderr",
          "text": [
            "/usr/local/lib/python3.7/dist-packages/IPython/core/interactiveshell.py:2882: FutureWarning: Dropping invalid columns in DataFrameGroupBy.mean is deprecated. In a future version, a TypeError will be raised. Before calling .mean, select only columns which should be valid for the function.\n",
            "  exec(code_obj, self.user_global_ns, self.user_ns)\n"
          ]
        },
        {
          "output_type": "error",
          "ename": "AttributeError",
          "evalue": "ignored",
          "traceback": [
            "\u001b[0;31m---------------------------------------------------------------------------\u001b[0m",
            "\u001b[0;31mAttributeError\u001b[0m                            Traceback (most recent call last)",
            "\u001b[0;32m<ipython-input-37-77bbee240b73>\u001b[0m in \u001b[0;36m<module>\u001b[0;34m()\u001b[0m\n\u001b[1;32m     12\u001b[0m \u001b[0mprint\u001b[0m\u001b[0;34m(\u001b[0m\u001b[0mweek_df\u001b[0m\u001b[0;34m)\u001b[0m\u001b[0;34m\u001b[0m\u001b[0;34m\u001b[0m\u001b[0m\n\u001b[1;32m     13\u001b[0m \u001b[0mweekday_name\u001b[0m\u001b[0;34m=\u001b[0m \u001b[0;34m[\u001b[0m\u001b[0;34m'Monday'\u001b[0m\u001b[0;34m,\u001b[0m\u001b[0;34m'Tuesday'\u001b[0m\u001b[0;34m,\u001b[0m\u001b[0;34m'Wednesday'\u001b[0m\u001b[0;34m,\u001b[0m\u001b[0;34m'Thursday'\u001b[0m\u001b[0;34m,\u001b[0m\u001b[0;34m'Friday'\u001b[0m\u001b[0;34m,\u001b[0m\u001b[0;34m'Saturday'\u001b[0m\u001b[0;34m,\u001b[0m\u001b[0;34m'Sunday'\u001b[0m\u001b[0;34m]\u001b[0m\u001b[0;34m\u001b[0m\u001b[0;34m\u001b[0m\u001b[0m\n\u001b[0;32m---> 14\u001b[0;31m \u001b[0mweek_df\u001b[0m \u001b[0;34m=\u001b[0m \u001b[0mdf\u001b[0m\u001b[0;34m.\u001b[0m\u001b[0mgroupby\u001b[0m\u001b[0;34m(\u001b[0m\u001b[0mdf\u001b[0m\u001b[0;34m[\u001b[0m\u001b[0;34m'Date'\u001b[0m\u001b[0;34m]\u001b[0m\u001b[0;34m.\u001b[0m\u001b[0mdt\u001b[0m\u001b[0;34m.\u001b[0m\u001b[0mweekday_name\u001b[0m\u001b[0;34m)\u001b[0m\u001b[0;34m.\u001b[0m\u001b[0mmean\u001b[0m\u001b[0;34m(\u001b[0m\u001b[0;34m)\u001b[0m\u001b[0;34m.\u001b[0m\u001b[0mreindex\u001b[0m\u001b[0;34m(\u001b[0m\u001b[0mdays\u001b[0m\u001b[0;34m)\u001b[0m\u001b[0;34m\u001b[0m\u001b[0;34m\u001b[0m\u001b[0m\n\u001b[0m\u001b[1;32m     15\u001b[0m \u001b[0mprint\u001b[0m\u001b[0;34m(\u001b[0m\u001b[0mweek_df\u001b[0m\u001b[0;34m)\u001b[0m\u001b[0;34m\u001b[0m\u001b[0;34m\u001b[0m\u001b[0m\n\u001b[1;32m     16\u001b[0m \u001b[0;34m\u001b[0m\u001b[0m\n",
            "\u001b[0;31mAttributeError\u001b[0m: 'DatetimeProperties' object has no attribute 'weekday_name'"
          ]
        }
      ]
    },
    {
      "cell_type": "code",
      "source": [
        "import pandas as pd\n",
        "\n",
        "df = pd.read_csv(\"https://drive.google.com/uc?id=1aYmBf9il2dWA-EROvbYRCZ1rU2t7JwvJ\",skiprows = 1)\n",
        "df.info()\n",
        "\n",
        "df['Date']= pd.to_datetime(df['Date'])\n",
        "df.dropna()\n",
        "df.describe"
      ],
      "metadata": {
        "id": "Gz4u6trsIQJ6",
        "colab": {
          "base_uri": "https://localhost:8080/"
        },
        "outputId": "5a233597-39bf-48ea-b469-f719816b4938"
      },
      "execution_count": 12,
      "outputs": [
        {
          "output_type": "stream",
          "name": "stdout",
          "text": [
            "<class 'pandas.core.frame.DataFrame'>\n",
            "RangeIndex: 8760 entries, 0 to 8759\n",
            "Data columns (total 4 columns):\n",
            " #   Column            Non-Null Count  Dtype \n",
            "---  ------            --------------  ----- \n",
            " 0   Date              8760 non-null   object\n",
            " 1   Time              8760 non-null   object\n",
            " 2   Nitrogen dioxide  8760 non-null   object\n",
            " 3   Status            8760 non-null   object\n",
            "dtypes: object(4)\n",
            "memory usage: 273.9+ KB\n"
          ]
        },
        {
          "output_type": "execute_result",
          "data": {
            "text/plain": [
              "<bound method NDFrame.describe of            Date   Time Nitrogen dioxide   Status\n",
              "0    2021-01-01  01:00         16.58269  V µg/m³\n",
              "1    2021-01-01  02:00         14.00478  V µg/m³\n",
              "2    2021-01-01  03:00         15.35208  V µg/m³\n",
              "3    2021-01-01  04:00         13.49688  V µg/m³\n",
              "4    2021-01-01  05:00         12.47511  V µg/m³\n",
              "...         ...    ...              ...      ...\n",
              "8755 2021-12-31  20:00         12.51492  P µg/m³\n",
              "8756 2021-12-31  21:00         14.00046  P µg/m³\n",
              "8757 2021-12-31  22:00         10.04780  P µg/m³\n",
              "8758 2021-12-31  23:00          3.49557  P µg/m³\n",
              "8759 2021-12-31  24:00          4.15682  P µg/m³\n",
              "\n",
              "[8760 rows x 4 columns]>"
            ]
          },
          "metadata": {},
          "execution_count": 12
        }
      ]
    },
    {
      "cell_type": "code",
      "source": [
        "def highest_level():\n",
        "  df\n",
        "  df[\"Highest_level\"] = df[\"Nitrogen dioxide\"]\n",
        "  highest_level = df[df['Nitrogen dioxide'].max].groupby('Highest_level',)['Nitrogen dioxide'].count()\n",
        "  return highest_level\n",
        "highest_level()\n",
        "      \n",
        "\n",
        "\n",
        "\n",
        "\n",
        "\n",
        "\n",
        "\n",
        "#df[df[column] = df[df[\"weekday\"]= Monday]\n",
        "\n",
        "\n",
        "\n",
        "\n",
        "### week_days = total for Mon Tue Wed Thur Fri Sat Sun\n",
        "###  NO2_Level = level in each day "
      ],
      "metadata": {
        "id": "JjBgDrawf8fK",
        "colab": {
          "base_uri": "https://localhost:8080/",
          "height": 562
        },
        "outputId": "40d95f00-d0f0-416e-e649-adcafed29ed7"
      },
      "execution_count": 15,
      "outputs": [
        {
          "output_type": "stream",
          "name": "stdout",
          "text": [
            "<class 'pandas.core.frame.DataFrame'>\n",
            "RangeIndex: 8760 entries, 0 to 8759\n",
            "Data columns (total 4 columns):\n",
            " #   Column            Non-Null Count  Dtype \n",
            "---  ------            --------------  ----- \n",
            " 0   Date              8760 non-null   object\n",
            " 1   Time              8760 non-null   object\n",
            " 2   Nitrogen dioxide  8760 non-null   object\n",
            " 3   Status            8760 non-null   object\n",
            "dtypes: object(4)\n",
            "memory usage: 273.9+ KB\n"
          ]
        },
        {
          "output_type": "error",
          "ename": "TypeError",
          "evalue": "ignored",
          "traceback": [
            "\u001b[0;31m---------------------------------------------------------------------------\u001b[0m",
            "\u001b[0;31mTypeError\u001b[0m                                 Traceback (most recent call last)",
            "\u001b[0;32m<ipython-input-15-874482fdbe6f>\u001b[0m in \u001b[0;36m<module>\u001b[0;34m()\u001b[0m\n\u001b[1;32m     10\u001b[0m   \u001b[0mhighest_level\u001b[0m \u001b[0;34m=\u001b[0m \u001b[0mdf\u001b[0m\u001b[0;34m[\u001b[0m\u001b[0mdf\u001b[0m\u001b[0;34m[\u001b[0m\u001b[0;34m'Nitrogen dioxide'\u001b[0m\u001b[0;34m]\u001b[0m\u001b[0;34m.\u001b[0m\u001b[0mmax\u001b[0m\u001b[0;34m]\u001b[0m\u001b[0;34m.\u001b[0m\u001b[0mgroupby\u001b[0m\u001b[0;34m(\u001b[0m\u001b[0;34m'Highest_level'\u001b[0m\u001b[0;34m,\u001b[0m\u001b[0;34m)\u001b[0m\u001b[0;34m[\u001b[0m\u001b[0;34m'Nitrogen dioxide'\u001b[0m\u001b[0;34m]\u001b[0m\u001b[0;34m.\u001b[0m\u001b[0mcount\u001b[0m\u001b[0;34m(\u001b[0m\u001b[0;34m)\u001b[0m\u001b[0;34m\u001b[0m\u001b[0;34m\u001b[0m\u001b[0m\n\u001b[1;32m     11\u001b[0m   \u001b[0;32mreturn\u001b[0m \u001b[0mhighest_level\u001b[0m\u001b[0;34m\u001b[0m\u001b[0;34m\u001b[0m\u001b[0m\n\u001b[0;32m---> 12\u001b[0;31m \u001b[0mhighest_level\u001b[0m\u001b[0;34m(\u001b[0m\u001b[0;34m)\u001b[0m\u001b[0;34m\u001b[0m\u001b[0;34m\u001b[0m\u001b[0m\n\u001b[0m\u001b[1;32m     13\u001b[0m \u001b[0;34m\u001b[0m\u001b[0m\n\u001b[1;32m     14\u001b[0m \u001b[0;34m\u001b[0m\u001b[0m\n",
            "\u001b[0;32m<ipython-input-15-874482fdbe6f>\u001b[0m in \u001b[0;36mhighest_level\u001b[0;34m()\u001b[0m\n\u001b[1;32m      8\u001b[0m   \u001b[0mdf\u001b[0m\u001b[0;34m\u001b[0m\u001b[0;34m\u001b[0m\u001b[0m\n\u001b[1;32m      9\u001b[0m   \u001b[0mdf\u001b[0m\u001b[0;34m[\u001b[0m\u001b[0;34m\"Highest_level\"\u001b[0m\u001b[0;34m]\u001b[0m \u001b[0;34m=\u001b[0m \u001b[0mdf\u001b[0m\u001b[0;34m[\u001b[0m\u001b[0;34m\"Nitrogen dioxide\"\u001b[0m\u001b[0;34m]\u001b[0m\u001b[0;34m\u001b[0m\u001b[0;34m\u001b[0m\u001b[0m\n\u001b[0;32m---> 10\u001b[0;31m   \u001b[0mhighest_level\u001b[0m \u001b[0;34m=\u001b[0m \u001b[0mdf\u001b[0m\u001b[0;34m[\u001b[0m\u001b[0mdf\u001b[0m\u001b[0;34m[\u001b[0m\u001b[0;34m'Nitrogen dioxide'\u001b[0m\u001b[0;34m]\u001b[0m\u001b[0;34m.\u001b[0m\u001b[0mmax\u001b[0m\u001b[0;34m]\u001b[0m\u001b[0;34m.\u001b[0m\u001b[0mgroupby\u001b[0m\u001b[0;34m(\u001b[0m\u001b[0;34m'Highest_level'\u001b[0m\u001b[0;34m,\u001b[0m\u001b[0;34m)\u001b[0m\u001b[0;34m[\u001b[0m\u001b[0;34m'Nitrogen dioxide'\u001b[0m\u001b[0;34m]\u001b[0m\u001b[0;34m.\u001b[0m\u001b[0mcount\u001b[0m\u001b[0;34m(\u001b[0m\u001b[0;34m)\u001b[0m\u001b[0;34m\u001b[0m\u001b[0;34m\u001b[0m\u001b[0m\n\u001b[0m\u001b[1;32m     11\u001b[0m   \u001b[0;32mreturn\u001b[0m \u001b[0mhighest_level\u001b[0m\u001b[0;34m\u001b[0m\u001b[0;34m\u001b[0m\u001b[0m\n\u001b[1;32m     12\u001b[0m \u001b[0mhighest_level\u001b[0m\u001b[0;34m(\u001b[0m\u001b[0;34m)\u001b[0m\u001b[0;34m\u001b[0m\u001b[0;34m\u001b[0m\u001b[0m\n",
            "\u001b[0;32m/usr/local/lib/python3.7/dist-packages/pandas/core/frame.py\u001b[0m in \u001b[0;36m__getitem__\u001b[0;34m(self, key)\u001b[0m\n\u001b[1;32m   3418\u001b[0m     \u001b[0;32mdef\u001b[0m \u001b[0m__getitem__\u001b[0m\u001b[0;34m(\u001b[0m\u001b[0mself\u001b[0m\u001b[0;34m,\u001b[0m \u001b[0mkey\u001b[0m\u001b[0;34m)\u001b[0m\u001b[0;34m:\u001b[0m\u001b[0;34m\u001b[0m\u001b[0;34m\u001b[0m\u001b[0m\n\u001b[1;32m   3419\u001b[0m         \u001b[0mkey\u001b[0m \u001b[0;34m=\u001b[0m \u001b[0mlib\u001b[0m\u001b[0;34m.\u001b[0m\u001b[0mitem_from_zerodim\u001b[0m\u001b[0;34m(\u001b[0m\u001b[0mkey\u001b[0m\u001b[0;34m)\u001b[0m\u001b[0;34m\u001b[0m\u001b[0;34m\u001b[0m\u001b[0m\n\u001b[0;32m-> 3420\u001b[0;31m         \u001b[0mkey\u001b[0m \u001b[0;34m=\u001b[0m \u001b[0mcom\u001b[0m\u001b[0;34m.\u001b[0m\u001b[0mapply_if_callable\u001b[0m\u001b[0;34m(\u001b[0m\u001b[0mkey\u001b[0m\u001b[0;34m,\u001b[0m \u001b[0mself\u001b[0m\u001b[0;34m)\u001b[0m\u001b[0;34m\u001b[0m\u001b[0;34m\u001b[0m\u001b[0m\n\u001b[0m\u001b[1;32m   3421\u001b[0m \u001b[0;34m\u001b[0m\u001b[0m\n\u001b[1;32m   3422\u001b[0m         \u001b[0;32mif\u001b[0m \u001b[0mis_hashable\u001b[0m\u001b[0;34m(\u001b[0m\u001b[0mkey\u001b[0m\u001b[0;34m)\u001b[0m\u001b[0;34m:\u001b[0m\u001b[0;34m\u001b[0m\u001b[0;34m\u001b[0m\u001b[0m\n",
            "\u001b[0;32m/usr/local/lib/python3.7/dist-packages/pandas/core/common.py\u001b[0m in \u001b[0;36mapply_if_callable\u001b[0;34m(maybe_callable, obj, **kwargs)\u001b[0m\n\u001b[1;32m    356\u001b[0m     \"\"\"\n\u001b[1;32m    357\u001b[0m     \u001b[0;32mif\u001b[0m \u001b[0mcallable\u001b[0m\u001b[0;34m(\u001b[0m\u001b[0mmaybe_callable\u001b[0m\u001b[0;34m)\u001b[0m\u001b[0;34m:\u001b[0m\u001b[0;34m\u001b[0m\u001b[0;34m\u001b[0m\u001b[0m\n\u001b[0;32m--> 358\u001b[0;31m         \u001b[0;32mreturn\u001b[0m \u001b[0mmaybe_callable\u001b[0m\u001b[0;34m(\u001b[0m\u001b[0mobj\u001b[0m\u001b[0;34m,\u001b[0m \u001b[0;34m**\u001b[0m\u001b[0mkwargs\u001b[0m\u001b[0;34m)\u001b[0m\u001b[0;34m\u001b[0m\u001b[0;34m\u001b[0m\u001b[0m\n\u001b[0m\u001b[1;32m    359\u001b[0m \u001b[0;34m\u001b[0m\u001b[0m\n\u001b[1;32m    360\u001b[0m     \u001b[0;32mreturn\u001b[0m \u001b[0mmaybe_callable\u001b[0m\u001b[0;34m\u001b[0m\u001b[0;34m\u001b[0m\u001b[0m\n",
            "\u001b[0;32m/usr/local/lib/python3.7/dist-packages/pandas/core/generic.py\u001b[0m in \u001b[0;36mmax\u001b[0;34m(self, axis, skipna, level, numeric_only, **kwargs)\u001b[0m\n\u001b[1;32m  10817\u001b[0m         )\n\u001b[1;32m  10818\u001b[0m         \u001b[0;32mdef\u001b[0m \u001b[0mmax\u001b[0m\u001b[0;34m(\u001b[0m\u001b[0mself\u001b[0m\u001b[0;34m,\u001b[0m \u001b[0maxis\u001b[0m\u001b[0;34m=\u001b[0m\u001b[0;32mNone\u001b[0m\u001b[0;34m,\u001b[0m \u001b[0mskipna\u001b[0m\u001b[0;34m=\u001b[0m\u001b[0;32mNone\u001b[0m\u001b[0;34m,\u001b[0m \u001b[0mlevel\u001b[0m\u001b[0;34m=\u001b[0m\u001b[0;32mNone\u001b[0m\u001b[0;34m,\u001b[0m \u001b[0mnumeric_only\u001b[0m\u001b[0;34m=\u001b[0m\u001b[0;32mNone\u001b[0m\u001b[0;34m,\u001b[0m \u001b[0;34m**\u001b[0m\u001b[0mkwargs\u001b[0m\u001b[0;34m)\u001b[0m\u001b[0;34m:\u001b[0m\u001b[0;34m\u001b[0m\u001b[0;34m\u001b[0m\u001b[0m\n\u001b[0;32m> 10819\u001b[0;31m             \u001b[0;32mreturn\u001b[0m \u001b[0mNDFrame\u001b[0m\u001b[0;34m.\u001b[0m\u001b[0mmax\u001b[0m\u001b[0;34m(\u001b[0m\u001b[0mself\u001b[0m\u001b[0;34m,\u001b[0m \u001b[0maxis\u001b[0m\u001b[0;34m,\u001b[0m \u001b[0mskipna\u001b[0m\u001b[0;34m,\u001b[0m \u001b[0mlevel\u001b[0m\u001b[0;34m,\u001b[0m \u001b[0mnumeric_only\u001b[0m\u001b[0;34m,\u001b[0m \u001b[0;34m**\u001b[0m\u001b[0mkwargs\u001b[0m\u001b[0;34m)\u001b[0m\u001b[0;34m\u001b[0m\u001b[0;34m\u001b[0m\u001b[0m\n\u001b[0m\u001b[1;32m  10820\u001b[0m \u001b[0;34m\u001b[0m\u001b[0m\n\u001b[1;32m  10821\u001b[0m         \u001b[0msetattr\u001b[0m\u001b[0;34m(\u001b[0m\u001b[0mcls\u001b[0m\u001b[0;34m,\u001b[0m \u001b[0;34m\"max\"\u001b[0m\u001b[0;34m,\u001b[0m \u001b[0mmax\u001b[0m\u001b[0;34m)\u001b[0m\u001b[0;34m\u001b[0m\u001b[0;34m\u001b[0m\u001b[0m\n",
            "\u001b[0;32m/usr/local/lib/python3.7/dist-packages/pandas/core/generic.py\u001b[0m in \u001b[0;36mmax\u001b[0;34m(self, axis, skipna, level, numeric_only, **kwargs)\u001b[0m\n\u001b[1;32m  10363\u001b[0m     \u001b[0;32mdef\u001b[0m \u001b[0mmax\u001b[0m\u001b[0;34m(\u001b[0m\u001b[0mself\u001b[0m\u001b[0;34m,\u001b[0m \u001b[0maxis\u001b[0m\u001b[0;34m=\u001b[0m\u001b[0;32mNone\u001b[0m\u001b[0;34m,\u001b[0m \u001b[0mskipna\u001b[0m\u001b[0;34m=\u001b[0m\u001b[0;32mNone\u001b[0m\u001b[0;34m,\u001b[0m \u001b[0mlevel\u001b[0m\u001b[0;34m=\u001b[0m\u001b[0;32mNone\u001b[0m\u001b[0;34m,\u001b[0m \u001b[0mnumeric_only\u001b[0m\u001b[0;34m=\u001b[0m\u001b[0;32mNone\u001b[0m\u001b[0;34m,\u001b[0m \u001b[0;34m**\u001b[0m\u001b[0mkwargs\u001b[0m\u001b[0;34m)\u001b[0m\u001b[0;34m:\u001b[0m\u001b[0;34m\u001b[0m\u001b[0;34m\u001b[0m\u001b[0m\n\u001b[1;32m  10364\u001b[0m         return self._stat_function(\n\u001b[0;32m> 10365\u001b[0;31m             \u001b[0;34m\"max\"\u001b[0m\u001b[0;34m,\u001b[0m \u001b[0mnanops\u001b[0m\u001b[0;34m.\u001b[0m\u001b[0mnanmax\u001b[0m\u001b[0;34m,\u001b[0m \u001b[0maxis\u001b[0m\u001b[0;34m,\u001b[0m \u001b[0mskipna\u001b[0m\u001b[0;34m,\u001b[0m \u001b[0mlevel\u001b[0m\u001b[0;34m,\u001b[0m \u001b[0mnumeric_only\u001b[0m\u001b[0;34m,\u001b[0m \u001b[0;34m**\u001b[0m\u001b[0mkwargs\u001b[0m\u001b[0;34m\u001b[0m\u001b[0;34m\u001b[0m\u001b[0m\n\u001b[0m\u001b[1;32m  10366\u001b[0m         )\n\u001b[1;32m  10367\u001b[0m \u001b[0;34m\u001b[0m\u001b[0m\n",
            "\u001b[0;32m/usr/local/lib/python3.7/dist-packages/pandas/core/generic.py\u001b[0m in \u001b[0;36m_stat_function\u001b[0;34m(self, name, func, axis, skipna, level, numeric_only, **kwargs)\u001b[0m\n\u001b[1;32m  10353\u001b[0m             )\n\u001b[1;32m  10354\u001b[0m         return self._reduce(\n\u001b[0;32m> 10355\u001b[0;31m             \u001b[0mfunc\u001b[0m\u001b[0;34m,\u001b[0m \u001b[0mname\u001b[0m\u001b[0;34m=\u001b[0m\u001b[0mname\u001b[0m\u001b[0;34m,\u001b[0m \u001b[0maxis\u001b[0m\u001b[0;34m=\u001b[0m\u001b[0maxis\u001b[0m\u001b[0;34m,\u001b[0m \u001b[0mskipna\u001b[0m\u001b[0;34m=\u001b[0m\u001b[0mskipna\u001b[0m\u001b[0;34m,\u001b[0m \u001b[0mnumeric_only\u001b[0m\u001b[0;34m=\u001b[0m\u001b[0mnumeric_only\u001b[0m\u001b[0;34m\u001b[0m\u001b[0;34m\u001b[0m\u001b[0m\n\u001b[0m\u001b[1;32m  10356\u001b[0m         )\n\u001b[1;32m  10357\u001b[0m \u001b[0;34m\u001b[0m\u001b[0m\n",
            "\u001b[0;32m/usr/local/lib/python3.7/dist-packages/pandas/core/series.py\u001b[0m in \u001b[0;36m_reduce\u001b[0;34m(self, op, name, axis, skipna, numeric_only, filter_type, **kwds)\u001b[0m\n\u001b[1;32m   4377\u001b[0m \u001b[0;34m\u001b[0m\u001b[0m\n\u001b[1;32m   4378\u001b[0m         \u001b[0;32mif\u001b[0m \u001b[0maxis\u001b[0m \u001b[0;32mis\u001b[0m \u001b[0;32mnot\u001b[0m \u001b[0;32mNone\u001b[0m\u001b[0;34m:\u001b[0m\u001b[0;34m\u001b[0m\u001b[0;34m\u001b[0m\u001b[0m\n\u001b[0;32m-> 4379\u001b[0;31m             \u001b[0mself\u001b[0m\u001b[0;34m.\u001b[0m\u001b[0m_get_axis_number\u001b[0m\u001b[0;34m(\u001b[0m\u001b[0maxis\u001b[0m\u001b[0;34m)\u001b[0m\u001b[0;34m\u001b[0m\u001b[0;34m\u001b[0m\u001b[0m\n\u001b[0m\u001b[1;32m   4380\u001b[0m \u001b[0;34m\u001b[0m\u001b[0m\n\u001b[1;32m   4381\u001b[0m         \u001b[0;32mif\u001b[0m \u001b[0misinstance\u001b[0m\u001b[0;34m(\u001b[0m\u001b[0mdelegate\u001b[0m\u001b[0;34m,\u001b[0m \u001b[0mExtensionArray\u001b[0m\u001b[0;34m)\u001b[0m\u001b[0;34m:\u001b[0m\u001b[0;34m\u001b[0m\u001b[0;34m\u001b[0m\u001b[0m\n",
            "\u001b[0;32m/usr/local/lib/python3.7/dist-packages/pandas/core/generic.py\u001b[0m in \u001b[0;36m_get_axis_number\u001b[0;34m(cls, axis)\u001b[0m\n\u001b[1;32m    544\u001b[0m     \u001b[0;32mdef\u001b[0m \u001b[0m_get_axis_number\u001b[0m\u001b[0;34m(\u001b[0m\u001b[0mcls\u001b[0m\u001b[0;34m,\u001b[0m \u001b[0maxis\u001b[0m\u001b[0;34m:\u001b[0m \u001b[0mAxis\u001b[0m\u001b[0;34m)\u001b[0m \u001b[0;34m->\u001b[0m \u001b[0mint\u001b[0m\u001b[0;34m:\u001b[0m\u001b[0;34m\u001b[0m\u001b[0;34m\u001b[0m\u001b[0m\n\u001b[1;32m    545\u001b[0m         \u001b[0;32mtry\u001b[0m\u001b[0;34m:\u001b[0m\u001b[0;34m\u001b[0m\u001b[0;34m\u001b[0m\u001b[0m\n\u001b[0;32m--> 546\u001b[0;31m             \u001b[0;32mreturn\u001b[0m \u001b[0mcls\u001b[0m\u001b[0;34m.\u001b[0m\u001b[0m_AXIS_TO_AXIS_NUMBER\u001b[0m\u001b[0;34m[\u001b[0m\u001b[0maxis\u001b[0m\u001b[0;34m]\u001b[0m\u001b[0;34m\u001b[0m\u001b[0;34m\u001b[0m\u001b[0m\n\u001b[0m\u001b[1;32m    547\u001b[0m         \u001b[0;32mexcept\u001b[0m \u001b[0mKeyError\u001b[0m\u001b[0;34m:\u001b[0m\u001b[0;34m\u001b[0m\u001b[0;34m\u001b[0m\u001b[0m\n\u001b[1;32m    548\u001b[0m             \u001b[0;32mraise\u001b[0m \u001b[0mValueError\u001b[0m\u001b[0;34m(\u001b[0m\u001b[0;34mf\"No axis named {axis} for object type {cls.__name__}\"\u001b[0m\u001b[0;34m)\u001b[0m\u001b[0;34m\u001b[0m\u001b[0;34m\u001b[0m\u001b[0m\n",
            "\u001b[0;31mTypeError\u001b[0m: unhashable type: 'DataFrame'"
          ]
        }
      ]
    }
  ]
}