{
  "nbformat": 4,
  "nbformat_minor": 0,
  "metadata": {
    "colab": {
      "name": "Copy of Air quality mini-project.ipynb",
      "provenance": [],
      "collapsed_sections": [],
      "include_colab_link": true
    },
    "kernelspec": {
      "name": "python3",
      "display_name": "Python 3"
    },
    "language_info": {
      "name": "python"
    }
  },
  "cells": [
    {
      "cell_type": "markdown",
      "metadata": {
        "id": "view-in-github",
        "colab_type": "text"
      },
      "source": [
        "<a href=\"https://colab.research.google.com/github/RautenM/PythonFundamentals/blob/main/Copy_of_Air_quality_mini_project.ipynb\" target=\"_parent\"><img src=\"https://colab.research.google.com/assets/colab-badge.svg\" alt=\"Open In Colab\"/></a>"
      ]
    },
    {
      "cell_type": "markdown",
      "source": [
        "![images-4.jpeg](data:image/jpeg;base64,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)\n",
        "\n",
        "\n",
        "\n",
        "# Air quality \n",
        "\n",
        "The following data file contains data collected at a roadside monitoring station.  You can see the data in a spreadsheet here: https://docs.google.com/spreadsheets/d/1XpAvrpuyMsKDO76EZ3kxuddBOu7cZX1Od4uEts14zco/edit?usp=sharing\n",
        "\n",
        "\n"
      ],
      "metadata": {
        "id": "8qnlsapq24Df"
      }
    },
    {
      "cell_type": "markdown",
      "source": [
        "### Project \n",
        "\n",
        "The dataset can be viewed here:  https://drive.google.com/file/d/1aYmBf9il2dWA-EROvbYRCZ1rU2t7JwvJ/view?usp=sharing  and the data accessed here: https://drive.google.com/uc?id=1QSNJ3B1ku8kjXsA_tCBh4fbpDK7wVLAA This is a .csv file  \n"
      ],
      "metadata": {
        "id": "SSvLiFnp4LjG"
      }
    },
    {
      "cell_type": "markdown",
      "source": [
        "\n",
        "Nitrogen dioxide is part of a group of gaseous air pollutants produced as a result of road traffic and other fossil fuel combustion processes. It's presence in air contributes to the formation and modification of other air pollutants, such as ozone and particulate matter, and to acid rain.\n",
        "In this project I will use NO2 to refer to Nitrogen dioxide.\n",
        "\n",
        "\n",
        "\n",
        "In this project I am going to create visual graph to show the level of NO2 for each day of the week for year 2020.\n",
        "\n",
        "\n",
        "\n",
        "\n",
        "After investigating and looking at my data I can conclude that in order to start coding first I need to prepare and clean my data. \n",
        "I need to skip a heading line, convert strings to float in Date column and because my data contain **no data** in **not recoginsed format** I have to use function to drop all those columns from NO2 levels to allow me to calculate the level of NO2 for each week day.\n"
      ],
      "metadata": {
        "id": "WZoFVgGoeNB3"
      }
    },
    {
      "cell_type": "code",
      "source": [
        "import pandas as pd\n",
        "\n",
        "df = pd.read_csv(\"https://drive.google.com/uc?id=1QSNJ3B1ku8kjXsA_tCBh4fbpDK7wVLAA\",skiprows = 1)\n",
        "df.head()"
      ],
      "metadata": {
        "id": "xEuR0jIAYReE"
      },
      "execution_count": null,
      "outputs": []
    },
    {
      "cell_type": "code",
      "source": [
        "df.describe()"
      ],
      "metadata": {
        "id": "E1y2CnOZTJ0m"
      },
      "execution_count": null,
      "outputs": []
    },
    {
      "cell_type": "code",
      "source": [
        "df=df.loc[df['Nitrogen dioxide']!=\"nodata\"]\n",
        "df\n",
        "\n",
        "#drop the column"
      ],
      "metadata": {
        "id": "q9wayNRCTUcW"
      },
      "execution_count": null,
      "outputs": []
    },
    {
      "cell_type": "markdown",
      "source": [
        "As my Data is clean and ready to convert and wrangle I am going to take all the data from Date column and group into week days column.\n",
        "This will allow me to get an average of N02 for each day of the week and present on graph which you can see bellow \n"
      ],
      "metadata": {
        "id": "wtRaIVCmi_c3"
      }
    },
    {
      "cell_type": "code",
      "source": [
        "\n",
        "df['Date']= pd.to_datetime(df['Date'])\n",
        "df[\"day\"]= df[\"Date\"].dt.strftime('%A')\n",
        "df['Nitrogen dioxide'] = df['Nitrogen dioxide'].astype(float)\n",
        "\n",
        "week_df = df.groupby(df['day'])[\"Nitrogen dioxide\"].mean()\n",
        "print(week_df)\n"
      ],
      "metadata": {
        "id": "mp7H7yNZZSOm"
      },
      "execution_count": null,
      "outputs": []
    },
    {
      "cell_type": "code",
      "source": [
        "week_df = df.groupby(df['day'])[\"Nitrogen dioxide\"].mean()\n",
        "barchart = week_df.plot(x=\"day\", y=week_df, kind=\"bar\")\n",
        "barchart.set_xlabel(\"Week day\")\n",
        "barchart.set_ylabel(\"Level of Nitrogen dioxide\")\n"
      ],
      "metadata": {
        "id": "Gz4u6trsIQJ6",
        "colab": {
          "base_uri": "https://localhost:8080/",
          "height": 344
        },
        "outputId": "201e21af-a168-45e4-d241-135bf2a5020e"
      },
      "execution_count": 110,
      "outputs": [
        {
          "output_type": "execute_result",
          "data": {
            "text/plain": [
              "Text(0, 0.5, 'Level of Nitrogen dioxide')"
            ]
          },
          "metadata": {},
          "execution_count": 110
        },
        {
          "output_type": "display_data",
          "data": {
            "text/plain": [
              "<Figure size 432x288 with 1 Axes>"
            ],
            "image/png": "[encoded data removed]"
          },
          "metadata": {
            "needs_background": "light"
          }
        }
      ]
    },
    {
      "cell_type": "markdown",
      "source": [
        "Reflection\n",
        "\n",
        "I really enjoyed this project because was short and simple but also I been working with Data and provided a result that should matter to people. \n",
        "\n",
        "Even though this project is simple I come across two challenges and also learnt a valuable lesson that being that the code is as simple as the data is clean. Trying to code with dirty data is like trying to drive a car by switching on the engine and then realising the car has no wheels."
      ],
      "metadata": {
        "id": "r8RlzPYMcufD"
      }
    }
  ]
}