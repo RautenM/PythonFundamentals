{
  "nbformat": 4,
  "nbformat_minor": 0,
  "metadata": {
    "colab": {
      "name": "Copy of Sea-Level-Project.ipynb",
      "provenance": [],
      "include_colab_link": true
    },
    "kernelspec": {
      "name": "python3",
      "display_name": "Python 3"
    },
    "language_info": {
      "name": "python"
    }
  },
  "cells": [
    {
      "cell_type": "markdown",
      "metadata": {
        "id": "view-in-github",
        "colab_type": "text"
      },
      "source": [
        "<a href=\"https://colab.research.google.com/github/RautenM/PythonFundamentals/blob/main/Copy_of_Sea_Level_Project.ipynb\" target=\"_parent\"><img src=\"https://colab.research.google.com/assets/colab-badge.svg\" alt=\"Open In Colab\"/></a>"
      ]
    },
    {
      "cell_type": "markdown",
      "source": [
        "# Using numpy to look for a correlation between time data and sea level rise\n",
        "---\n",
        "\n",
        "### Data Source\n",
        "Global Average Absolute Sea Level Change, 1880-2014 from the US Environmental Protection Agency using data from CSIRO, 2015; NOAA, 2015.\n",
        "https://datahub.io/core/sea-level-rise\n",
        "\n",
        "The data describes annual sea levels from 1880 to 2013.  Measures are adjusted using two standards: Commonwealth Scientific and Industrial Research Organisation(CSIRO) and National Oceanic and Atmospheric Administration (NOAA)  \n",
        "\n",
        "Raw Data file:  https://raw.githubusercontent.com/freeCodeCamp/boilerplate-sea-level-predictor/master/epa-sea-level.csv\n",
        "\n",
        "For this exercise:\n",
        "*  import the pandas library\n",
        "*  import the numpy library\n",
        "*  read the csv dataset containing data on sea-levels from the year 1880 to 2013 into a dataframe (df)\n",
        "*  use df.head() and df.info() to inspect the data and the column data types\n",
        "\n"
      ],
      "metadata": {
        "id": "jBYNdCdQ9_cu"
      }
    },
    {
      "cell_type": "code",
      "source": [
        "import pandas as pd\n",
        "import numpy as np\n",
        "\n",
        "url = (\"https://raw.githubusercontent.com/freeCodeCamp/boilerplate-sea-level-predictor/master/epa-sea-level.csv\")\n",
        "sea_level = pd.read_csv(url)\n",
        "sea_level.head()\n",
        "sea_level.info()\n",
        "print(sea_level)\n",
        "\n",
        "\n",
        "### what data, stat, chart, what is the data/ look/ come from/ what to do with "
      ],
      "metadata": {
        "id": "r1XUCWHV_Cj9",
        "outputId": "3e1e802f-d85b-4ff0-ef3f-82fedb2400db",
        "colab": {
          "base_uri": "https://localhost:8080/"
        }
      },
      "execution_count": null,
      "outputs": [
        {
          "output_type": "stream",
          "name": "stdout",
          "text": [
            "<class 'pandas.core.frame.DataFrame'>\n",
            "RangeIndex: 134 entries, 0 to 133\n",
            "Data columns (total 5 columns):\n",
            " #   Column                    Non-Null Count  Dtype  \n",
            "---  ------                    --------------  -----  \n",
            " 0   Year                      134 non-null    int64  \n",
            " 1   CSIRO Adjusted Sea Level  134 non-null    float64\n",
            " 2   Lower Error Bound         134 non-null    float64\n",
            " 3   Upper Error Bound         134 non-null    float64\n",
            " 4   NOAA Adjusted Sea Level   21 non-null     float64\n",
            "dtypes: float64(4), int64(1)\n",
            "memory usage: 5.4 KB\n",
            "     Year  CSIRO Adjusted Sea Level  Lower Error Bound  Upper Error Bound  \\\n",
            "0    1880                  0.000000          -0.952756           0.952756   \n",
            "1    1881                  0.220472          -0.732283           1.173228   \n",
            "2    1882                 -0.440945          -1.346457           0.464567   \n",
            "3    1883                 -0.232283          -1.129921           0.665354   \n",
            "4    1884                  0.590551          -0.283465           1.464567   \n",
            "..    ...                       ...                ...                ...   \n",
            "129  2009                  8.586614           8.311024           8.862205   \n",
            "130  2010                  8.901575           8.618110           9.185039   \n",
            "131  2011                  8.964567           8.661417           9.267717   \n",
            "132  2012                  9.326772           8.992126           9.661417   \n",
            "133  2013                  8.980315           8.622047           9.338583   \n",
            "\n",
            "     NOAA Adjusted Sea Level  \n",
            "0                        NaN  \n",
            "1                        NaN  \n",
            "2                        NaN  \n",
            "3                        NaN  \n",
            "4                        NaN  \n",
            "..                       ...  \n",
            "129                 8.046354  \n",
            "130                 8.122973  \n",
            "131                 8.053065  \n",
            "132                 8.457058  \n",
            "133                 8.546648  \n",
            "\n",
            "[134 rows x 5 columns]\n"
          ]
        }
      ]
    },
    {
      "cell_type": "markdown",
      "source": [
        "### Then\n",
        "---\n",
        "1.  Calculate some statistics on the level array, eg:\n",
        "*  mean\n",
        "*  standard deviation\n",
        "*  total \n",
        "\n",
        "2.  Use the fact that the arrays are aligned (e.g. the first number in the level array is linked to the first year in the year array and display:\n",
        "\n",
        "*  the year with the biggest rise in level\n",
        "*  the year with the lowest rise in level\n",
        "\n",
        "*(**Hint**:  to do this you can use a new numpy function np.where() )*\n",
        " ```\n",
        "np.where(array == value_to_find)\n",
        "```\n",
        "*There is some reference material [here](https://thispointer.com/find-the-index-of-a-value-in-numpy-array/)*\n",
        "\n",
        "**Note**: ```np.where(...)``` will return a tuple containing all indexes where that value was found.  You can print all, or you can print the first value (it is likely that there will only be one in this case) using [0][0].  *With the correct code you should get an answer of 2012*\n",
        "\n",
        "\n",
        "3.  Calculate the Pearson product-moment correlation coefficient between year and the rise in sea level.  (*Expected output:  0.98 when rounded to 2 decimal places*)"
      ],
      "metadata": {
        "id": "3cf1YPgnBSc2"
      }
    },
    {
      "cell_type": "code",
      "execution_count": null,
      "metadata": {
        "id": "8VWUtmK4YhoU",
        "outputId": "64dc7774-1093-4962-9cd7-018559e7cf13",
        "colab": {
          "base_uri": "https://localhost:8080/"
        }
      },
      "outputs": [
        {
          "output_type": "stream",
          "name": "stdout",
          "text": [
            "<class 'pandas.core.frame.DataFrame'>\n",
            "RangeIndex: 134 entries, 0 to 133\n",
            "Data columns (total 5 columns):\n",
            " #   Column                    Non-Null Count  Dtype  \n",
            "---  ------                    --------------  -----  \n",
            " 0   Year                      134 non-null    int64  \n",
            " 1   CSIRO Adjusted Sea Level  134 non-null    float64\n",
            " 2   Lower Error Bound         134 non-null    float64\n",
            " 3   Upper Error Bound         134 non-null    float64\n",
            " 4   NOAA Adjusted Sea Level   21 non-null     float64\n",
            "dtypes: float64(4), int64(1)\n",
            "memory usage: 5.4 KB\n",
            "     Year  CSIRO Adjusted Sea Level  Lower Error Bound  Upper Error Bound  \\\n",
            "0    1880                  0.000000          -0.952756           0.952756   \n",
            "1    1881                  0.220472          -0.732283           1.173228   \n",
            "2    1882                 -0.440945          -1.346457           0.464567   \n",
            "3    1883                 -0.232283          -1.129921           0.665354   \n",
            "4    1884                  0.590551          -0.283465           1.464567   \n",
            "..    ...                       ...                ...                ...   \n",
            "129  2009                  8.586614           8.311024           8.862205   \n",
            "130  2010                  8.901575           8.618110           9.185039   \n",
            "131  2011                  8.964567           8.661417           9.267717   \n",
            "132  2012                  9.326772           8.992126           9.661417   \n",
            "133  2013                  8.980315           8.622047           9.338583   \n",
            "\n",
            "     NOAA Adjusted Sea Level  \n",
            "0                        NaN  \n",
            "1                        NaN  \n",
            "2                        NaN  \n",
            "3                        NaN  \n",
            "4                        NaN  \n",
            "..                       ...  \n",
            "129                 8.046354  \n",
            "130                 8.122973  \n",
            "131                 8.053065  \n",
            "132                 8.457058  \n",
            "133                 8.546648  \n",
            "\n",
            "[134 rows x 5 columns]\n",
            "Mean 3.650340811880598 Std 2.476399631426498 Total 489.1456687920001 Highest sea level 9.326771644 Lowest sea level -0.440944881\n",
            "2012\n",
            "1882\n",
            "[[1.         0.98475713]\n",
            " [0.98475713 1.        ]]\n",
            "0.98\n"
          ]
        }
      ],
      "source": [
        "from numpy.ma.core import maximum_fill_value\n",
        "import pandas as pd\n",
        "import numpy as np\n",
        "\n",
        "url = (\"https://raw.githubusercontent.com/freeCodeCamp/boilerplate-sea-level-predictor/master/epa-sea-level.csv\")\n",
        "sea_levels = pd.read_csv(url)\n",
        "sea_levels.head()\n",
        "sea_levels.info()\n",
        "print(sea_levels)\n",
        "\n",
        "def get_levels():\n",
        "  year = sea_levels[\"Year\"].to_numpy(np.int64)\n",
        "  level =sea_levels[\"CSIRO Adjusted Sea Level\"].to_numpy(np.float64) \n",
        "  avg_level = level.mean()\n",
        "  std = level.std()\n",
        "  sum = level.sum()\n",
        "  max = level.max()\n",
        "  \n",
        "  # highest sea level\n",
        "\n",
        "  min = level.min() \n",
        "  \n",
        "  # lowest sea level\n",
        "  print(\"Mean\",avg_level, \"Std\", std, \"Total\",sum, \"Highest sea level\",max, \"Lowest sea level\",min)\n",
        "\n",
        "  #the year with the biggest rise in level\n",
        "\n",
        "  higgest_sea_rise_year = np.where(level == max)[0][0]\n",
        "  #the year with the lowest rise in level\n",
        "\n",
        "  lowest_sea_rise_year = np.where(sea_levels == min)[0][0]\n",
        "\n",
        "###>>> add chart <<<###\n",
        "\n",
        "  print(year[higgest_sea_rise_year])\n",
        "  print(year[lowest_sea_rise_year])\n",
        "\n",
        "  #Calculate correlation coefficien\n",
        "\n",
        "  coeff =np. corrcoef(year,level)\n",
        "  print(coeff)\n",
        "  print(round(coeff[0][1],2))\n",
        "\n",
        "\n",
        "\n",
        "\n",
        "get_levels()\n"
      ]
    },
    {
      "cell_type": "code",
      "source": [
        "import pandas as pd\n",
        "import matplotlib.pyplot as plt\n",
        "import numpy as np\n",
        "\n",
        "url = (\"https://raw.githubusercontent.com/freeCodeCamp/boilerplate-sea-level-predictor/master/epa-sea-level.csv\")\n",
        "df = pd.read_csv(url)\n",
        "df\n",
        "\n",
        "\n",
        "x = df[[\"CSIRO Adjusted Sea Level\" , \"Year\"]].sum()\n",
        "data = x\n",
        "\n",
        "data\n",
        "\n",
        "labels = data.keys()\n",
        "labels\n",
        "plt.plot(labels,data)\n",
        "plt.xticks(rotation=45)\n",
        "plt.grid()\n",
        "plt.show()\n",
        "\n",
        "\n",
        "\n",
        "\n",
        "\n",
        "\n",
        "\n",
        "\n",
        "\n",
        "\n",
        "\n",
        "\n",
        "\n",
        "\n",
        "\n"
      ],
      "metadata": {
        "colab": {
          "base_uri": "https://localhost:8080/",
          "height": 354
        },
        "id": "YVDni30SG_B7",
        "outputId": "4bc13252-9a31-4f7e-b1d4-47edc2524bad"
      },
      "execution_count": 50,
      "outputs": [
        {
          "output_type": "display_data",
          "data": {
            "image/png": "[encoded data removed]",
            "text/plain": [
              "<Figure size 432x288 with 1 Axes>"
            ]
          },
          "metadata": {
            "needs_background": "light"
          }
        }
      ]
    },
    {
      "cell_type": "markdown",
      "metadata": {
        "id": "yQyytEbnZ1lw"
      },
      "source": [
        "# Reflection\n",
        "----\n",
        "\n",
        "## What skills have you demonstrated in completing this notebook?"
      ]
    },
    {
      "cell_type": "markdown",
      "metadata": {
        "id": "MM00hR5aZk1-"
      },
      "source": [
        "Your answer: "
      ]
    },
    {
      "cell_type": "markdown",
      "metadata": {
        "id": "Zgexd27sZ1ly"
      },
      "source": [
        "## What caused you the most difficulty?"
      ]
    },
    {
      "cell_type": "markdown",
      "metadata": {
        "id": "-Y_nrVBwaGXr"
      },
      "source": [
        "Your answer: "
      ]
    }
  ]
}